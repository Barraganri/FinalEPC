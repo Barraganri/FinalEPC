{
 "cells": [
  {
   "cell_type": "code",
   "execution_count": null,
   "metadata": {},
   "outputs": [],
   "source": [
    "mem = 0\n",
    "# Lee ORG 8000\n",
    "#Funcion para leer linea con ORG e igualar mem a la memoria indicada\n",
    "#if(len(splitt)==2 and splitt[0]== operativas[0]):\n",
    "#       mem = int(splitt[1][1:])\n",
    "        \n",
    "listRel = [] #lista donde se enuncia los casos relativos por resolver\n",
    "tablaObj = [] #lista de listas donde cada renglon es bit,hex,mn o oper\n",
    "def addline(mem,mn,oper,etiq):\n",
    "        #funcion que separe en mem\n",
    "        listMn = divmem(mn)\n",
    "        listOper = divmem(oper)\n",
    "        for i in range(len(listMn)):\n",
    "                newLine = [mem,listMn[i],\"mn\"]\n",
    "                mem = mem + 1\n",
    "                tablaObj.append(newLine)\n",
    "        #caso para relativos\n",
    "        if mn == \"21\"|mn == \"22\"|mn == \"23\"|mn == \"24\"|mn == \"25\"|mn == \"26\"|mn == \"27\"|mn == \"28\"|mn == \"29\"|mn == \"2A\"|mn == \"2B\"|mn == \"2C\"|mn == \"2D\"|mn == \"2E\"|mn == \"2F\"|mn == \"8D\":\n",
    "                newLine = [mem,\"\",\"o\"] \n",
    "                tablaObj.append(newLine)\n",
    "                listRel.append([int(mem),etiq]) \n",
    "        else:                 \n",
    "                for i in range(len(listOper)):\n",
    "                        newLine = [mem,listOper[i],'o']\n",
    "                        mem = mem + 1\n",
    "                        tablaObj.append(newLine)\n",
    "                if mn == \"13\"|mn == \"1F\"|mn == \"181F\"|mn == \"12\"|mn == \"1E\"|mn == \"181E\":\n",
    "                        newLine = [ mem,\"\",\"o\"] \n",
    "                        tablaObj.append(newLine)\n",
    "                        listRel.append([int(mem),etiq])\n",
    "                        \n",
    "        #Ademas de mem, agregar tambien la etiqueta indicada en listREl \n",
    "#obtiene una lista de parejas de caracteres a partir de string\n"
   ]
  },
  {
   "cell_type": "code",
   "execution_count": 41,
   "metadata": {},
   "outputs": [
    {
     "name": "stdout",
     "output_type": "stream",
     "text": [
      "['B6', '00', 'BD', 'B6', '53', 'CC', '08', '00', 'FD', '10', '18', 'FD', '10', '1A', 'FD', '10', '1C', 'FD', '10', '1E', 'BD', 'B6', '65', 'CC', '00', '02', 'DD', '00', '7F', '00', '06', '7F', '00', '10']\n"
     ]
    }
   ],
   "source": [
    "def divBits(string):\n",
    "        if (len(string))%2==0:\n",
    "                listBits = []\n",
    "                pos1=0\n",
    "                pos2=1\n",
    "                for i in range(int(len(string)/2)):\n",
    "                        byte = str(string[pos1]+string[pos2])\n",
    "                        listBits.append(byte)\n",
    "                        pos1 = pos1+2\n",
    "                        pos2 = pos2+2\n",
    "        #cambiarlo a else para generar un error en caso de que mnemonico o operando no tenga numero par de caracteres\n",
    "        return listBits\n",
    "\n",
    "strPrueba = \"B600BDB653CC0800FD1018FD101AFD101CFD101EBDB665CC0002DD007F00067F0010\"\n",
    "print(divBits(strPrueba))\n"
   ]
  },
  {
   "cell_type": "code",
   "execution_count": 46,
   "metadata": {},
   "outputs": [
    {
     "name": "stdout",
     "output_type": "stream",
     "text": [
      "e8\n",
      "0x17\n"
     ]
    }
   ],
   "source": [
    "def negBin(binary):\n",
    "    listBin = list(binary)\n",
    "    listAux = []\n",
    "    for i in listBin:\n",
    "        if i == '0':\n",
    "            i = '1'\n",
    "        else:\n",
    "            i = '0'\n",
    "        listAux.append(i)\n",
    "    listAux = \"\".join(listAux)\n",
    "    return listAux\n",
    "\n",
    "def compa2(bit1,bit2):\n",
    "    nbit1 = '0b'+negBin(bit1) \n",
    "    nbit2 = '0b'+negBin(bit2) \n",
    "    resultado = ''\n",
    "#posible caso para error 8?\n",
    "    if(int(nbit2,2)+1)<16:\n",
    "        sumaBit2 = hex(int(nbit2,2)+1)\n",
    "        nbit1 = hex(int(nbit1,2))\n",
    "        resultado = nbit1[2:]+sumaBit2[2:]\n",
    "    else:\n",
    "        sumaBit1 = hex(int(nbit1,2)+1)\n",
    "        nbit2 = hex(int(nbit2,2))\n",
    "        resultado = sumaBit1[2:]+nBit2[2:]\n",
    "    return resultado\n",
    "\n",
    "testBin0 = '0001'\n",
    "testBin = '1000'\n",
    "print(compa2(testBin0, testBin))\n",
    "print(hex(int(\"802C\",16)-int(\"8015\",16)))\n",
    "\n",
    "#memetq - memvacio = + o -\n",
    "# + resta de mem -1\n",
    "#resta > 128 eeror 8\n",
    "# -  comp a 2\n",
    "#resta < -127 -> error 8"
   ]
  }
 ],
 "metadata": {
  "kernelspec": {
   "display_name": "Python 3.10.1 64-bit",
   "language": "python",
   "name": "python3"
  },
  "language_info": {
   "codemirror_mode": {
    "name": "ipython",
    "version": 3
   },
   "file_extension": ".py",
   "mimetype": "text/x-python",
   "name": "python",
   "nbconvert_exporter": "python",
   "pygments_lexer": "ipython3",
   "version": "3.10.1"
  },
  "orig_nbformat": 4,
  "vscode": {
   "interpreter": {
    "hash": "61582b9979280cbf8009f373fed1baff71e5f78b76d4fb27e19aa7f3c183f18f"
   }
  }
 },
 "nbformat": 4,
 "nbformat_minor": 2
}
