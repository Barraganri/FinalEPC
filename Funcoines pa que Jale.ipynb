{
 "cells": [
  {
   "cell_type": "code",
   "execution_count": null,
   "metadata": {},
   "outputs": [],
   "source": [
    "mem = 0\n",
    "# Lee ORG 8000\n",
    "#Funcion para leer linea con ORG e igualar mem a la memoria indicada\n",
    "#if(len(splitt)==2 and splitt[0]== operativas[0]):\n",
    "#       mem = int(splitt[1][1:])\n",
    "        \n",
    "listRel = [] #lista donde se enuncia los casos relativos por resolver\n",
    "tablaObj = [] #lista de listas donde cada renglon es linea,bit,hex,mn o oper\n",
    "def addline(linea,memo,mn,oper):\n",
    "        #funcion que separe en mem\n",
    "        mem = memo\n",
    "        listMn = divBits(mn)\n",
    "        listOper = divBits(oper)\n",
    "        if mn == \"--\":\n",
    "                newLine = [linea,\"--\",\"--\",\"--\"]\n",
    "                return\n",
    "        for i in range(len(listMn)):\n",
    "                newLine = [linea,mem,listMn[i],\"mn\"]\n",
    "                mem = mem + 1\n",
    "                tablaObj.append(newLine)\n",
    "        #caso para relativos\n",
    "        if mn == \"21\"|mn == \"22\"|mn == \"23\"|mn == \"24\"|mn == \"25\"|mn == \"26\"|mn == \"27\"|mn == \"28\"|mn == \"29\"|mn == \"2A\"|mn == \"2B\"|mn == \"2C\"|mn == \"2D\"|mn == \"2E\"|mn == \"2F\"|mn == \"8D\":\n",
    "                newLine = [mem,\"\",\"o\"] \n",
    "                tablaObj.append(newLine)\n",
    "                listRel.append([int(mem),color]) \n",
    "        else:                 \n",
    "                for i in range(len(listOper)):\n",
    "                        newLine = [linea,mem,listOper[i],'o']\n",
    "                        mem = mem + 1\n",
    "                        tablaObj.append(newLine)\n",
    "                if mn == \"13\"|mn == \"1F\"|mn == \"181F\"|mn == \"12\"|mn == \"1E\"|mn == \"181E\":\n",
    "                        newLine = [linea,mem,\"\",\"o\"] \n",
    "                        tablaObj.append(newLine)\n",
    "                        listRel.append([int(mem),color])\n",
    "                        \n",
    "        #Ademas de mem, agregar tambien la etiqueta indicada en listREl \n",
    "#obtiene una lista de parejas de caracteres a partir de string\n",
    "\n",
    "def buscarMem(memoria):\n",
    "        renglon = 0\n",
    "        for i in tablaObj:\n",
    "                if(i[1]==memoria):\n",
    "                        return renglon\n",
    "                renglon+=1\n",
    "        return 0\n",
    "\n",
    "def imprimirTabla(tablaObj):\n",
    "        print(str(Linea+\"\\t\"+Memoria+\"\\t\"+tHex+\"\\t\"+tColor+\"\\n\"))\n",
    "        for i in tablaObj:\n",
    "                print(str(i[0]+\"\\t\"+i[1]+\"\\t\"+i[2]+\"\\t\"+i[3]+\"\\n\"))\n",
    "        return\n",
    "        "
   ]
  },
  {
   "cell_type": "code",
   "execution_count": 6,
   "metadata": {},
   "outputs": [
    {
     "name": "stdout",
     "output_type": "stream",
     "text": [
      "['10', '00']\n",
      "a\n",
      "a\n"
     ]
    }
   ],
   "source": [
    "def divBits(string):\n",
    "        listBits = []\n",
    "        if (len(string))%2==0:\n",
    "                pos1=0\n",
    "                pos2=1\n",
    "                for i in range(int(len(string)/2)):\n",
    "                        byte = str(string[pos1]+string[pos2])\n",
    "                        listBits.append(byte)\n",
    "                        pos1 = pos1+2\n",
    "                        pos2 = pos2+2\n",
    "        else:\n",
    "                print(\"Error en divbits. No par\")\n",
    "        #cambiarlo a else para generar un error en caso de que mnemonico o operando no tenga numero par de caracteres\n",
    "        return listBits\n",
    "\n",
    "strPrueba = \"1000\"\n",
    "print(divBits(strPrueba))\n",
    "\n",
    "for i in range(len(divBits(strPrueba))):\n",
    "        print(\"a\")\n"
   ]
  },
  {
   "cell_type": "code",
   "execution_count": 12,
   "metadata": {},
   "outputs": [
    {
     "name": "stdout",
     "output_type": "stream",
     "text": [
      "0\t100\n",
      "0000\t0100\n",
      "0b1111\t0b1011\n",
      "FC\n"
     ]
    }
   ],
   "source": [
    "def negBin(binary):\n",
    "    listBin = list(binary)\n",
    "    listAux = []\n",
    "    for i in listBin:\n",
    "        if i == '0':\n",
    "            i = '1'\n",
    "        else:\n",
    "            i = '0'\n",
    "        listAux.append(i)\n",
    "    listAux = \"\".join(listAux)\n",
    "    return listAux\n",
    "\n",
    "#Entrada debe ser estrictamente asi bit1 = '0000' bit2= '0000'\n",
    "def compa2(bit1,bit2):\n",
    "    print(bit1 +\"\\t\"+ bit2)\n",
    "    if len(bit1) < 4:\n",
    "        ceros = 4-len(bit1)\n",
    "        for i in range(ceros):\n",
    "            bit1 = '0'+ bit1\n",
    "    if len(bit2) < 4:\n",
    "        ceros = 4-len(bit2)\n",
    "        for i in range(ceros):\n",
    "            bit2 = '0'+ bit2\n",
    "    print(bit1 +\"\\t\"+ bit2)\n",
    "    nbit1 = '0b'+negBin(bit1) \n",
    "    nbit2 = '0b'+negBin(bit2) \n",
    "    print(nbit1 +\"\\t\"+ nbit2)\n",
    "    resultado = ''\n",
    "    if(int(nbit2,2)+1)<16:\n",
    "        sumaBit2 = hex(int(nbit2,2)+1)\n",
    "        nbit1 = hex(int(nbit1,2))\n",
    "        resultado = nbit1[2:]+sumaBit2[2:]\n",
    "    else:\n",
    "        sumaBit1 = hex(int(nbit1,2)+1)\n",
    "        nbit2 = hex(int(nbit2,2))\n",
    "        resultado = sumaBit1[2:]+nbit2[2:]\n",
    "    return resultado.upper()\n",
    "\n",
    "testBin0 = '0'\n",
    "testBin = '100'\n",
    "print(compa2(testBin0, testBin))\n",
    "#print(hex(int(\"802C\",16)-int(\"8015\",16)))\n",
    "\n",
    "#memetq - memvacio = + o -\n",
    "# + resta de mem -1\n",
    "#resta > 128 eeror 8\n",
    "# -  comp a 2\n",
    "#resta < -127 -> error 8"
   ]
  },
  {
   "cell_type": "code",
   "execution_count": 24,
   "metadata": {},
   "outputs": [
    {
     "ename": "AttributeError",
     "evalue": "'str' object has no attribute 'append'",
     "output_type": "error",
     "traceback": [
      "\u001b[1;31m---------------------------------------------------------------------------\u001b[0m",
      "\u001b[1;31mAttributeError\u001b[0m                            Traceback (most recent call last)",
      "Cell \u001b[1;32mIn [24], line 13\u001b[0m\n\u001b[0;32m     11\u001b[0m \u001b[39m# Write the HTML code to a file\u001b[39;00m\n\u001b[0;32m     12\u001b[0m \u001b[39mwith\u001b[39;00m \u001b[39mopen\u001b[39m(\u001b[39m\"\u001b[39m\u001b[39mcolors.html\u001b[39m\u001b[39m\"\u001b[39m, \u001b[39m\"\u001b[39m\u001b[39ma\u001b[39m\u001b[39m\"\u001b[39m, ) \u001b[39mas\u001b[39;00m file:\n\u001b[1;32m---> 13\u001b[0m     file\u001b[39m.\u001b[39mwrite(red_html\u001b[39m.\u001b[39;49mappend(blue_html))\n",
      "\u001b[1;31mAttributeError\u001b[0m: 'str' object has no attribute 'append'"
     ]
    }
   ],
   "source": [
    "from markdown import markdown\n",
    "\n",
    "# Define the text that you want to display in red and blue\n",
    "red_text = \"This text is red\"\n",
    "blue_text = \"This text is blue\"\n",
    "\n",
    "# Use the markdown function to convert the text to HTML\n",
    "red_html = markdown(f\"<font color='red'>{red_text}</font><font color='blue'>{blue_text}</font>\")\n",
    "\n",
    "\n",
    "# Write the HTML code to a file\n",
    "with open(\"colors.html\", \"a\", ) as file:\n",
    "    file.write(red_html)"
   ]
  },
  {
   "cell_type": "code",
   "execution_count": 9,
   "metadata": {},
   "outputs": [
    {
     "name": "stdout",
     "output_type": "stream",
     "text": [
      "range(0, 5)\n",
      "0\n",
      "1\n",
      "2\n",
      "3\n",
      "4\n"
     ]
    }
   ],
   "source": [
    "def transBit(bit):\n",
    "    if len(bit) < 4:\n",
    "        ceros = 4-len(bit)\n",
    "        for i in range(ceros):\n",
    "            bit = '0'+ bit\n",
    "        return bit\n",
    "    \n",
    "def checksum(suma,memoria,contador):\n",
    "    mem1 = memoria[:2]\n",
    "    mem2 = memoria[2:]\n",
    "    suma += (int(mem1,16)+(int(mem2,16)))\n",
    "    suma += (contador+3)\n",
    "    suma = hex(suma)[2:]\n",
    "    print(suma)\n",
    "    suma = suma[-2:]\n",
    "    print(suma)\n",
    "    sum1 = negBin(bin(int(suma[0],16))[2:])\n",
    "    print(sum1)\n",
    "    sum2 = negBin(bin(int(suma[1],16))[2:])\n",
    "    print(sum2)\n",
    "    suma = hex(int(sum1,2))[2:]+hex(int(sum2,2))[2:]\n",
    "    return suma\n",
    "\n",
    "suma = 60000\n",
    "memoria = '8000'\n",
    "contador = 8\n",
    "\n",
    "#print(checksum(suma, memoria, contador))\n",
    "print(range(5))\n",
    "for i in range(5):\n",
    "    print(i)\n",
    "\n",
    "\n"
   ]
  }
 ],
 "metadata": {
  "kernelspec": {
   "display_name": "Python 3.10.1 64-bit",
   "language": "python",
   "name": "python3"
  },
  "language_info": {
   "codemirror_mode": {
    "name": "ipython",
    "version": 3
   },
   "file_extension": ".py",
   "mimetype": "text/x-python",
   "name": "python",
   "nbconvert_exporter": "python",
   "pygments_lexer": "ipython3",
   "version": "3.10.1"
  },
  "orig_nbformat": 4,
  "vscode": {
   "interpreter": {
    "hash": "61582b9979280cbf8009f373fed1baff71e5f78b76d4fb27e19aa7f3c183f18f"
   }
  }
 },
 "nbformat": 4,
 "nbformat_minor": 2
}
